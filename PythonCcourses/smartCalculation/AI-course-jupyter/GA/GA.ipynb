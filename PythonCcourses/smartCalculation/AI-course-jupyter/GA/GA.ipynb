{
 "cells": [
  {
   "cell_type": "code",
   "execution_count": 1,
   "metadata": {},
   "outputs": [],
   "source": [
    "import numpy as np, random, operator, pandas as pd, matplotlib.pyplot as plt"
   ]
  },
  {
   "cell_type": "code",
   "execution_count": 2,
   "metadata": {
    "scrolled": false
   },
   "outputs": [
    {
     "data": {
      "image/png": "[encoded data removed]",
      "text/plain": [
       "<IPython.core.display.Image object>"
      ]
     },
     "execution_count": 2,
     "metadata": {},
     "output_type": "execute_result"
    }
   ],
   "source": [
    "from IPython.display import Image\n",
    "Image(filename='1.png')"
   ]
  },
  {
   "cell_type": "markdown",
   "metadata": {},
   "source": [
    "<font size=5>每座城市仅访问一次（不重不漏）\n",
    "必须返回起始城市</font>"
   ]
  },
  {
   "cell_type": "markdown",
   "metadata": {},
   "source": [
    "<font size=3>\n",
    "    \n",
    "gene: 一座城市（以(x, y)坐标表示）\n",
    "    \n",
    "individual: 或染色体（chromosome）： 满足以上条件的一个路由\n",
    "    \n",
    "population: 一组可能的路由（即，一组个体）\n",
    "    \n",
    "parents: 两个路由相组合，创建一个新路由\n",
    "    \n",
    "mating pool: 一组父母，用来创建下一代种群（即创建下一代路由）\n",
    "    \n",
    "fitness: 一个告诉我们每个路由有多好的函数（在我们的例子中，也就是距离多短）\n",
    "    \n",
    "mutation: 在种群中引入变化的方法，随机交换路由中的两个城市\n",
    "    \n",
    "Elitism: 将最好的个体保留至下一代\n",
    "</font>"
   ]
  },
  {
   "cell_type": "markdown",
   "metadata": {},
   "source": [
    "## Create necessary classes and functions"
   ]
  },
  {
   "cell_type": "markdown",
   "metadata": {},
   "source": []
  },
  {
   "cell_type": "markdown",
   "metadata": {},
   "source": [
    "Create class to handle \"cities\""
   ]
  },
  {
   "cell_type": "code",
   "execution_count": 3,
   "metadata": {},
   "outputs": [],
   "source": [
    "class City:\n",
    "    def __init__(self, x, y):\n",
    "        self.x = x\n",
    "        self.y = y\n",
    "    \n",
    "    def distance(self, city):\n",
    "        xDis = abs(self.x - city.x)\n",
    "        yDis = abs(self.y - city.y)\n",
    "        distance = np.sqrt((xDis ** 2) + (yDis ** 2))\n",
    "        return distance\n",
    "    \n",
    "    def __repr__(self):\n",
    "        return \"(\" + str(self.x) + \",\" + str(self.y) + \")\""
   ]
  },
  {
   "cell_type": "markdown",
   "metadata": {},
   "source": [
    "Create a fitness function"
   ]
  },
  {
   "cell_type": "code",
   "execution_count": 4,
   "metadata": {},
   "outputs": [],
   "source": [
    "class Fitness:\n",
    "    def __init__(self, route):\n",
    "        self.route = route\n",
    "        self.distance = 0\n",
    "        self.fitness= 0.0\n",
    "    \n",
    "    def routeDistance(self):\n",
    "        if self.distance ==0:\n",
    "            pathDistance = 0\n",
    "            for i in range(0, len(self.route)):\n",
    "                fromCity = self.route[i]\n",
    "                toCity = None\n",
    "                if i + 1 < len(self.route):\n",
    "                    toCity = self.route[i + 1]\n",
    "                else:\n",
    "                    toCity = self.route[0]\n",
    "                pathDistance += fromCity.distance(toCity)\n",
    "            self.distance = pathDistance\n",
    "        return self.distance\n",
    "    \n",
    "    def routeFitness(self):\n",
    "        if self.fitness == 0:\n",
    "            self.fitness = 1 / float(self.routeDistance())\n",
    "        return self.fitness"
   ]
  },
  {
   "cell_type": "markdown",
   "metadata": {},
   "source": [
    "## Create our initial population"
   ]
  },
  {
   "cell_type": "markdown",
   "metadata": {},
   "source": [
    "Route generator"
   ]
  },
  {
   "cell_type": "code",
   "execution_count": 5,
   "metadata": {},
   "outputs": [],
   "source": [
    "def createRoute(cityList):\n",
    "    route = random.sample(cityList, len(cityList))\n",
    "    return route"
   ]
  },
  {
   "cell_type": "markdown",
   "metadata": {},
   "source": [
    "Create first \"population\" (list of routes)"
   ]
  },
  {
   "cell_type": "code",
   "execution_count": 6,
   "metadata": {},
   "outputs": [],
   "source": [
    "def initialPopulation(popSize, cityList):\n",
    "    population = []\n",
    "\n",
    "    for i in range(0, popSize):\n",
    "        population.append(createRoute(cityList))\n",
    "    return population"
   ]
  },
  {
   "cell_type": "markdown",
   "metadata": {},
   "source": [
    "## Create the genetic algorithm"
   ]
  },
  {
   "cell_type": "markdown",
   "metadata": {},
   "source": [
    "Rank individuals"
   ]
  },
  {
   "cell_type": "code",
   "execution_count": 7,
   "metadata": {},
   "outputs": [],
   "source": [
    "def rankRoutes(population):\n",
    "    fitnessResults = {}\n",
    "    for i in range(0,len(population)):\n",
    "        fitnessResults[i] = Fitness(population[i]).routeFitness()\n",
    "    return sorted(fitnessResults.items(), key = operator.itemgetter(1), reverse = True)"
   ]
  },
  {
   "cell_type": "markdown",
   "metadata": {},
   "source": [
    "Create a selection function that will be used to make the list of parent routes"
   ]
  },
  {
   "cell_type": "markdown",
   "metadata": {},
   "source": [
    "<font size=3>我们为每个个体计算相对适应度权重（创建轮盘），然后将这些权重与一个随机数比较，以选择交配池。同时，我们打算保留最佳的路由，因此引入了精英选择。最后，selection函数返回路由ID的列表，供matingPool函数使用。</font>"
   ]
  },
  {
   "cell_type": "code",
   "execution_count": 8,
   "metadata": {},
   "outputs": [],
   "source": [
    "def selection(popRanked, eliteSize):\n",
    "    selectionResults = []\n",
    "    df = pd.DataFrame(np.array(popRanked), columns=[\"Index\",\"Fitness\"])\n",
    "    df['cum_sum'] = df.Fitness.cumsum()\n",
    "    df['cum_perc'] = 100*df.cum_sum/df.Fitness.sum()\n",
    "    \n",
    "    for i in range(0, eliteSize):\n",
    "        selectionResults.append(popRanked[i][0])\n",
    "    for i in range(0, len(popRanked) - eliteSize):\n",
    "        pick = 100*random.random()\n",
    "        for i in range(0, len(popRanked)):\n",
    "            if pick <= df.iat[i,3]:\n",
    "                selectionResults.append(popRanked[i][0])\n",
    "                break\n",
    "    return selectionResults"
   ]
  },
  {
   "cell_type": "markdown",
   "metadata": {},
   "source": [
    "Create mating pool"
   ]
  },
  {
   "cell_type": "code",
   "execution_count": 9,
   "metadata": {},
   "outputs": [],
   "source": [
    "def matingPool(population, selectionResults):\n",
    "    matingpool = []\n",
    "    for i in range(0, len(selectionResults)):\n",
    "        index = selectionResults[i]\n",
    "        matingpool.append(population[index])\n",
    "    return matingpool"
   ]
  },
  {
   "cell_type": "markdown",
   "metadata": {},
   "source": [
    "Create a crossover function for two parents to create one child"
   ]
  },
  {
   "cell_type": "markdown",
   "metadata": {},
   "source": [
    "<font size=3>TSP要求每个位置出现且仅出现一次。为了遵循这条规则，我们将使用一种特殊的繁殖函数有序交叉（ordered crossover）。在有序交叉中，我们随机选择父字符串的一个子集，然后用母字符串中的基因填充路由的剩余空位。填充时，按照基因在母字符串中出现的次序依次填充，跳过选中的父字符串子集中已有的基因。</font>"
   ]
  },
  {
   "cell_type": "code",
   "execution_count": 10,
   "metadata": {},
   "outputs": [
    {
     "data": {
      "image/jpeg": "[encoded data removed]",
      "text/plain": [
       "<IPython.core.display.Image object>"
      ]
     },
     "execution_count": 10,
     "metadata": {},
     "output_type": "execute_result"
    }
   ],
   "source": [
    "Image(filename='2.jpeg')"
   ]
  },
  {
   "cell_type": "code",
   "execution_count": 11,
   "metadata": {},
   "outputs": [],
   "source": [
    "def breed(parent1, parent2):\n",
    "    child = []\n",
    "    childP1 = []\n",
    "    childP2 = []\n",
    "    \n",
    "    geneA = int(random.random() * len(parent1))\n",
    "    geneB = int(random.random() * len(parent1))\n",
    "    \n",
    "    startGene = min(geneA, geneB)\n",
    "    endGene = max(geneA, geneB)\n",
    "\n",
    "    for i in range(startGene, endGene):\n",
    "        childP1.append(parent1[i])\n",
    "        \n",
    "    childP2 = [item for item in parent2 if item not in childP1]\n",
    "\n",
    "    child = childP1 + childP2\n",
    "    return child"
   ]
  },
  {
   "cell_type": "markdown",
   "metadata": {},
   "source": [
    "Create function to run crossover over full mating pool"
   ]
  },
  {
   "cell_type": "code",
   "execution_count": 12,
   "metadata": {},
   "outputs": [],
   "source": [
    "def breedPopulation(matingpool, eliteSize):\n",
    "    children = []\n",
    "    length = len(matingpool) - eliteSize\n",
    "    pool = random.sample(matingpool, len(matingpool))\n",
    "\n",
    "    for i in range(0,eliteSize):\n",
    "        children.append(matingpool[i])\n",
    "    \n",
    "    for i in range(0, length):\n",
    "        child = breed(pool[i], pool[len(matingpool)-i-1])\n",
    "        children.append(child)\n",
    "    return children"
   ]
  },
  {
   "cell_type": "markdown",
   "metadata": {},
   "source": [
    "Create function to mutate a single route"
   ]
  },
  {
   "cell_type": "markdown",
   "metadata": {},
   "source": [
    "<font size=3>变异在GA中起到了重要作用，它通过引入新路由让我们得以探索解答空间的其他部分，避免收敛到局部最优值。和交叉类似，TSP问题中的变异需要特殊考虑。同样，如果我们的染色体由0和1组成，变异不过是给基因分配一个较低的由0变为1（或由1变0）的概率。\n",
    "\n",
    "然而，因为我们需要遵守TSP的规则，我们无法丢弃城市。我们将转而使用交换变异（swap mutation）。这意味着，我们指定一个较低的概率，两座城市会在我们的路由中交换位置。</font>"
   ]
  },
  {
   "cell_type": "code",
   "execution_count": 13,
   "metadata": {},
   "outputs": [],
   "source": [
    "def mutate(individual, mutationRate):\n",
    "    for swapped in range(len(individual)):\n",
    "        if(random.random() < mutationRate):\n",
    "            swapWith = int(random.random() * len(individual))\n",
    "            \n",
    "            city1 = individual[swapped]\n",
    "            city2 = individual[swapWith]\n",
    "            \n",
    "            individual[swapped] = city2\n",
    "            individual[swapWith] = city1\n",
    "    return individual"
   ]
  },
  {
   "cell_type": "markdown",
   "metadata": {},
   "source": [
    "Create function to run mutation over entire population"
   ]
  },
  {
   "cell_type": "code",
   "execution_count": 14,
   "metadata": {},
   "outputs": [],
   "source": [
    "def mutatePopulation(population, mutationRate):\n",
    "    mutatedPop = []\n",
    "    \n",
    "    for ind in range(0, len(population)):\n",
    "        mutatedInd = mutate(population[ind], mutationRate)\n",
    "        mutatedPop.append(mutatedInd)\n",
    "    return mutatedPop"
   ]
  },
  {
   "cell_type": "markdown",
   "metadata": {},
   "source": [
    "Put all steps together to create the next generation"
   ]
  },
  {
   "cell_type": "code",
   "execution_count": 15,
   "metadata": {},
   "outputs": [],
   "source": [
    "def nextGeneration(currentGen, eliteSize, mutationRate):\n",
    "    popRanked = rankRoutes(currentGen)\n",
    "    selectionResults = selection(popRanked, eliteSize)\n",
    "    matingpool = matingPool(currentGen, selectionResults)\n",
    "    children = breedPopulation(matingpool, eliteSize)\n",
    "    nextGeneration = mutatePopulation(children, mutationRate)\n",
    "    return nextGeneration"
   ]
  },
  {
   "cell_type": "markdown",
   "metadata": {},
   "source": [
    "Final step: create the genetic algorithm"
   ]
  },
  {
   "cell_type": "code",
   "execution_count": 16,
   "metadata": {},
   "outputs": [],
   "source": [
    "# index=[]\n",
    "convergence=[]\n",
    "def geneticAlgorithm(population, popSize, eliteSize, mutationRate, generations):\n",
    "    pop = initialPopulation(popSize, population)\n",
    "    print(\"Initial distance: \" + str(1 / rankRoutes(pop)[0][1]))\n",
    "    \n",
    "    for i in range(0, generations):\n",
    "        pop = nextGeneration(pop, eliteSize, mutationRate)\n",
    "        # index.append(1)\n",
    "        length_i=1/rankRoutes(pop)[0][1]\n",
    "        convergence.append(length_i)\n",
    "        print(i,length_i)\n",
    "    \n",
    "    print(\"Final distance: \" + str(1 / rankRoutes(pop)[0][1]))\n",
    "    bestRouteIndex = rankRoutes(pop)[0][0]\n",
    "    bestRoute = pop[bestRouteIndex]\n",
    "    return bestRoute\n",
    "\n",
    "# # check the convergence\n",
    "# convergence\n",
    "# size=len(convergence)\n",
    "# pairs=[list(range(1,size+1)),convergence]\n",
    "# pairs\n"
   ]
  },
  {
   "cell_type": "markdown",
   "metadata": {},
   "source": [
    "## Running the genetic algorithm"
   ]
  },
  {
   "cell_type": "markdown",
   "metadata": {},
   "source": [
    "Create list of cities"
   ]
  },
  {
   "cell_type": "code",
   "execution_count": 17,
   "metadata": {},
   "outputs": [],
   "source": [
    "# # test data1(randon data)\n",
    "\n",
    "# cityList = []\n",
    "\n",
    "# for i in range(0,25):\n",
    "#     cityList.append(City(x=int(random.random() * 200), y=int(random.random() * 200)))\n",
    "# # cityList.append(123,444)\n",
    "# cityList"
   ]
  },
  {
   "cell_type": "code",
   "execution_count": 18,
   "metadata": {},
   "outputs": [
    {
     "data": {
      "text/plain": [
       "[(116.46,39.92),\n",
       " (117.2,39.13),\n",
       " (121.48,31.22),\n",
       " (106.54,29.59),\n",
       " (91.11,29.97),\n",
       " (87.68,43.77),\n",
       " (106.27,38.47),\n",
       " (111.65,40.82),\n",
       " (108.33,22.84),\n",
       " (126.63,45.75),\n",
       " (125.35,43.88),\n",
       " (123.38,41.8),\n",
       " (114.48,38.03),\n",
       " (112.53,37.87),\n",
       " (101.74,36.56),\n",
       " (117.0,36.65),\n",
       " (113.6,34.76),\n",
       " (118.78,32.04),\n",
       " (117.27,31.86),\n",
       " (120.19,30.26),\n",
       " (119.3,26.08),\n",
       " (115.89,28.68),\n",
       " (113.0,28.21),\n",
       " (114.31,30.52),\n",
       " (113.23,23.16),\n",
       " (121.5,25.05),\n",
       " (110.35,20.02),\n",
       " (103.73,36.03),\n",
       " (108.95,34.27),\n",
       " (104.06,30.67),\n",
       " (106.71,26.57),\n",
       " (102.73,25.04),\n",
       " (114.1,22.2),\n",
       " (113.33,22.13)]"
      ]
     },
     "execution_count": 18,
     "metadata": {},
     "output_type": "execute_result"
    }
   ],
   "source": [
    "# test data2:location from TSP_data.csv file\n",
    "\n",
    "cityList=pd.read_csv(\"./TSP_data.csv\",names=[\"location\",\"latitude\",\"longtitude\"])\n",
    "cityList=cityList[[\"latitude\",\"longtitude\"]]\n",
    "cityList=cityList.values.tolist()\n",
    "# cityList=[tuple(list_item) for list_item in cityList]\n",
    "cityList=[City(list_item[0],list_item[1]) for list_item in cityList]\n",
    "# cityList.head(5)\n",
    "cityList"
   ]
  },
  {
   "cell_type": "markdown",
   "metadata": {},
   "source": [
    "Run the genetic algorithm"
   ]
  },
  {
   "cell_type": "code",
   "execution_count": 19,
   "metadata": {},
   "outputs": [
    {
     "name": "stdout",
     "output_type": "stream",
     "text": [
      "Initial distance: 411.62857026156496\n",
      "0 411.62857026156496\n",
      "1 398.75167292509474\n",
      "2 392.29970860893616\n",
      "3 381.0681366328377\n",
      "4 374.9184502749958\n",
      "5 371.6091343656402\n",
      "6 343.6891196878449\n",
      "7 353.662040494944\n",
      "8 339.82446899534307\n",
      "9 334.57406075565837\n",
      "10 334.57406075565837\n",
      "11 334.4236373811946\n",
      "12 324.63626906719213\n",
      "13 320.37304011358856\n",
      "14 306.4019149033984\n",
      "15 298.04803092509565\n",
      "16 298.04803092509565\n",
      "17 298.04803092509565\n",
      "18 277.35949828367256\n",
      "19 277.35949828367256\n",
      "20 274.77285865435783\n",
      "21 266.70645651691416\n",
      "22 266.70645651691416\n",
      "23 265.58275202780607\n",
      "24 265.58275202780607\n",
      "25 265.58275202780607\n",
      "26 265.58275202780607\n",
      "27 265.58275202780607\n",
      "28 265.58275202780607\n",
      "29 265.58275202780607\n",
      "30 254.43731798534822\n",
      "31 254.43731798534822\n",
      "32 252.7019532798596\n",
      "33 246.91281501647546\n",
      "34 246.91281501647546\n",
      "35 246.91281501647546\n",
      "36 231.63297847455274\n",
      "37 252.52929218141847\n",
      "38 250.96698863694326\n",
      "39 250.96698863694326\n",
      "40 233.8951442382724\n",
      "41 233.8951442382724\n",
      "42 232.74184899101428\n",
      "43 232.74184899101428\n",
      "44 233.8951442382724\n",
      "45 233.8951442382724\n"
     ]
    }
   ],
   "source": [
    "##\n",
    "geneticAlgorithm(population=cityList, popSize=100,\n",
    "                 eliteSize=20, mutationRate=0.01, generations=300)\n",
    "\n",
    "# check the convergence\n",
    "convergence\n",
    "size = len(convergence)\n",
    "index = list(range(1, size+1))\n",
    "# pairs=[index,convergence]\n",
    "# pairs\n",
    "plt.plot(index, convergence)"
   ]
  }
 ],
 "metadata": {
  "interpreter": {
   "hash": "feb1c9e92cffff48ed6c5b9c2ca3b0379c8025eab34b7d9d6178f56b8b61c249"
  },
  "kernelspec": {
   "display_name": "Python 3.9.5 64-bit (system)",
   "name": "python3"
  },
  "language_info": {
   "codemirror_mode": {
    "name": "ipython",
    "version": 3
   },
   "file_extension": ".py",
   "mimetype": "text/x-python",
   "name": "python",
   "nbconvert_exporter": "python",
   "pygments_lexer": "ipython3",
   "version": "3.9.5"
  }
 },
 "nbformat": 4,
 "nbformat_minor": 2
}
